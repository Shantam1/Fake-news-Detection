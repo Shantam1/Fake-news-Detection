{
 "cells": [
  {
   "cell_type": "code",
   "execution_count": 28,
   "metadata": {},
   "outputs": [],
   "source": [
    "import pandas as pd\n",
    "import seaborn as sns\n",
    "import matplotlib.pyplot as plt\n",
    "from sklearn.metrics import classification_report"
   ]
  },
  {
   "cell_type": "code",
   "execution_count": 4,
   "metadata": {},
   "outputs": [
    {
     "data": {
      "text/html": [
       "<div>\n",
       "<style scoped>\n",
       "    .dataframe tbody tr th:only-of-type {\n",
       "        vertical-align: middle;\n",
       "    }\n",
       "\n",
       "    .dataframe tbody tr th {\n",
       "        vertical-align: top;\n",
       "    }\n",
       "\n",
       "    .dataframe thead th {\n",
       "        text-align: right;\n",
       "    }\n",
       "</style>\n",
       "<table border=\"1\" class=\"dataframe\">\n",
       "  <thead>\n",
       "    <tr style=\"text-align: right;\">\n",
       "      <th></th>\n",
       "      <th>Unnamed: 0</th>\n",
       "      <th>title</th>\n",
       "      <th>text</th>\n",
       "      <th>subject</th>\n",
       "      <th>date</th>\n",
       "      <th>class</th>\n",
       "    </tr>\n",
       "  </thead>\n",
       "  <tbody>\n",
       "    <tr>\n",
       "      <th>0</th>\n",
       "      <td>0</td>\n",
       "      <td>Donald Trump Sends Out Embarrassing New Year’...</td>\n",
       "      <td>Donald Trump just couldn t wish all Americans ...</td>\n",
       "      <td>News</td>\n",
       "      <td>December 31, 2017</td>\n",
       "      <td>0</td>\n",
       "    </tr>\n",
       "    <tr>\n",
       "      <th>1</th>\n",
       "      <td>1</td>\n",
       "      <td>Drunk Bragging Trump Staffer Started Russian ...</td>\n",
       "      <td>House Intelligence Committee Chairman Devin Nu...</td>\n",
       "      <td>News</td>\n",
       "      <td>December 31, 2017</td>\n",
       "      <td>0</td>\n",
       "    </tr>\n",
       "    <tr>\n",
       "      <th>2</th>\n",
       "      <td>2</td>\n",
       "      <td>Sheriff David Clarke Becomes An Internet Joke...</td>\n",
       "      <td>On Friday, it was revealed that former Milwauk...</td>\n",
       "      <td>News</td>\n",
       "      <td>December 30, 2017</td>\n",
       "      <td>0</td>\n",
       "    </tr>\n",
       "    <tr>\n",
       "      <th>3</th>\n",
       "      <td>3</td>\n",
       "      <td>Trump Is So Obsessed He Even Has Obama’s Name...</td>\n",
       "      <td>On Christmas day, Donald Trump announced that ...</td>\n",
       "      <td>News</td>\n",
       "      <td>December 29, 2017</td>\n",
       "      <td>0</td>\n",
       "    </tr>\n",
       "    <tr>\n",
       "      <th>4</th>\n",
       "      <td>4</td>\n",
       "      <td>Pope Francis Just Called Out Donald Trump Dur...</td>\n",
       "      <td>Pope Francis used his annual Christmas Day mes...</td>\n",
       "      <td>News</td>\n",
       "      <td>December 25, 2017</td>\n",
       "      <td>0</td>\n",
       "    </tr>\n",
       "    <tr>\n",
       "      <th>5</th>\n",
       "      <td>5</td>\n",
       "      <td>Racist Alabama Cops Brutalize Black Boy While...</td>\n",
       "      <td>The number of cases of cops brutalizing and ki...</td>\n",
       "      <td>News</td>\n",
       "      <td>December 25, 2017</td>\n",
       "      <td>0</td>\n",
       "    </tr>\n",
       "    <tr>\n",
       "      <th>6</th>\n",
       "      <td>6</td>\n",
       "      <td>Fresh Off The Golf Course, Trump Lashes Out A...</td>\n",
       "      <td>Donald Trump spent a good portion of his day a...</td>\n",
       "      <td>News</td>\n",
       "      <td>December 23, 2017</td>\n",
       "      <td>0</td>\n",
       "    </tr>\n",
       "    <tr>\n",
       "      <th>7</th>\n",
       "      <td>7</td>\n",
       "      <td>Trump Said Some INSANELY Racist Stuff Inside ...</td>\n",
       "      <td>In the wake of yet another court decision that...</td>\n",
       "      <td>News</td>\n",
       "      <td>December 23, 2017</td>\n",
       "      <td>0</td>\n",
       "    </tr>\n",
       "    <tr>\n",
       "      <th>8</th>\n",
       "      <td>8</td>\n",
       "      <td>Former CIA Director Slams Trump Over UN Bully...</td>\n",
       "      <td>Many people have raised the alarm regarding th...</td>\n",
       "      <td>News</td>\n",
       "      <td>December 22, 2017</td>\n",
       "      <td>0</td>\n",
       "    </tr>\n",
       "    <tr>\n",
       "      <th>9</th>\n",
       "      <td>9</td>\n",
       "      <td>WATCH: Brand-New Pro-Trump Ad Features So Muc...</td>\n",
       "      <td>Just when you might have thought we d get a br...</td>\n",
       "      <td>News</td>\n",
       "      <td>December 21, 2017</td>\n",
       "      <td>0</td>\n",
       "    </tr>\n",
       "    <tr>\n",
       "      <th>10</th>\n",
       "      <td>10</td>\n",
       "      <td>Papa John’s Founder Retires, Figures Out Raci...</td>\n",
       "      <td>A centerpiece of Donald Trump s campaign, and ...</td>\n",
       "      <td>News</td>\n",
       "      <td>December 21, 2017</td>\n",
       "      <td>0</td>\n",
       "    </tr>\n",
       "    <tr>\n",
       "      <th>11</th>\n",
       "      <td>11</td>\n",
       "      <td>WATCH: Paul Ryan Just Told Us He Doesn’t Care...</td>\n",
       "      <td>Republicans are working overtime trying to sel...</td>\n",
       "      <td>News</td>\n",
       "      <td>December 21, 2017</td>\n",
       "      <td>0</td>\n",
       "    </tr>\n",
       "    <tr>\n",
       "      <th>12</th>\n",
       "      <td>12</td>\n",
       "      <td>Bad News For Trump — Mitch McConnell Says No ...</td>\n",
       "      <td>Republicans have had seven years to come up wi...</td>\n",
       "      <td>News</td>\n",
       "      <td>December 21, 2017</td>\n",
       "      <td>0</td>\n",
       "    </tr>\n",
       "    <tr>\n",
       "      <th>13</th>\n",
       "      <td>13</td>\n",
       "      <td>WATCH: Lindsey Graham Trashes Media For Portr...</td>\n",
       "      <td>The media has been talking all day about Trump...</td>\n",
       "      <td>News</td>\n",
       "      <td>December 20, 2017</td>\n",
       "      <td>0</td>\n",
       "    </tr>\n",
       "    <tr>\n",
       "      <th>14</th>\n",
       "      <td>14</td>\n",
       "      <td>Heiress To Disney Empire Knows GOP Scammed Us...</td>\n",
       "      <td>Abigail Disney is an heiress with brass ovarie...</td>\n",
       "      <td>News</td>\n",
       "      <td>December 20, 2017</td>\n",
       "      <td>0</td>\n",
       "    </tr>\n",
       "    <tr>\n",
       "      <th>15</th>\n",
       "      <td>15</td>\n",
       "      <td>Tone Deaf Trump: Congrats Rep. Scalise On Los...</td>\n",
       "      <td>Donald Trump just signed the GOP tax scam into...</td>\n",
       "      <td>News</td>\n",
       "      <td>December 20, 2017</td>\n",
       "      <td>0</td>\n",
       "    </tr>\n",
       "    <tr>\n",
       "      <th>16</th>\n",
       "      <td>16</td>\n",
       "      <td>The Internet Brutally Mocks Disney’s New Trum...</td>\n",
       "      <td>A new animatronic figure in the Hall of Presid...</td>\n",
       "      <td>News</td>\n",
       "      <td>December 19, 2017</td>\n",
       "      <td>0</td>\n",
       "    </tr>\n",
       "    <tr>\n",
       "      <th>17</th>\n",
       "      <td>17</td>\n",
       "      <td>Mueller Spokesman Just F-cked Up Donald Trump...</td>\n",
       "      <td>Trump supporters and the so-called president s...</td>\n",
       "      <td>News</td>\n",
       "      <td>December 17, 2017</td>\n",
       "      <td>0</td>\n",
       "    </tr>\n",
       "    <tr>\n",
       "      <th>18</th>\n",
       "      <td>18</td>\n",
       "      <td>SNL Hilariously Mocks Accused Child Molester ...</td>\n",
       "      <td>Right now, the whole world is looking at the s...</td>\n",
       "      <td>News</td>\n",
       "      <td>December 17, 2017</td>\n",
       "      <td>0</td>\n",
       "    </tr>\n",
       "    <tr>\n",
       "      <th>19</th>\n",
       "      <td>19</td>\n",
       "      <td>Republican Senator Gets Dragged For Going Aft...</td>\n",
       "      <td>Senate Majority Whip John Cornyn (R-TX) though...</td>\n",
       "      <td>News</td>\n",
       "      <td>December 16, 2017</td>\n",
       "      <td>0</td>\n",
       "    </tr>\n",
       "  </tbody>\n",
       "</table>\n",
       "</div>"
      ],
      "text/plain": [
       "    Unnamed: 0                                              title  \\\n",
       "0            0   Donald Trump Sends Out Embarrassing New Year’...   \n",
       "1            1   Drunk Bragging Trump Staffer Started Russian ...   \n",
       "2            2   Sheriff David Clarke Becomes An Internet Joke...   \n",
       "3            3   Trump Is So Obsessed He Even Has Obama’s Name...   \n",
       "4            4   Pope Francis Just Called Out Donald Trump Dur...   \n",
       "5            5   Racist Alabama Cops Brutalize Black Boy While...   \n",
       "6            6   Fresh Off The Golf Course, Trump Lashes Out A...   \n",
       "7            7   Trump Said Some INSANELY Racist Stuff Inside ...   \n",
       "8            8   Former CIA Director Slams Trump Over UN Bully...   \n",
       "9            9   WATCH: Brand-New Pro-Trump Ad Features So Muc...   \n",
       "10          10   Papa John’s Founder Retires, Figures Out Raci...   \n",
       "11          11   WATCH: Paul Ryan Just Told Us He Doesn’t Care...   \n",
       "12          12   Bad News For Trump — Mitch McConnell Says No ...   \n",
       "13          13   WATCH: Lindsey Graham Trashes Media For Portr...   \n",
       "14          14   Heiress To Disney Empire Knows GOP Scammed Us...   \n",
       "15          15   Tone Deaf Trump: Congrats Rep. Scalise On Los...   \n",
       "16          16   The Internet Brutally Mocks Disney’s New Trum...   \n",
       "17          17   Mueller Spokesman Just F-cked Up Donald Trump...   \n",
       "18          18   SNL Hilariously Mocks Accused Child Molester ...   \n",
       "19          19   Republican Senator Gets Dragged For Going Aft...   \n",
       "\n",
       "                                                 text subject  \\\n",
       "0   Donald Trump just couldn t wish all Americans ...    News   \n",
       "1   House Intelligence Committee Chairman Devin Nu...    News   \n",
       "2   On Friday, it was revealed that former Milwauk...    News   \n",
       "3   On Christmas day, Donald Trump announced that ...    News   \n",
       "4   Pope Francis used his annual Christmas Day mes...    News   \n",
       "5   The number of cases of cops brutalizing and ki...    News   \n",
       "6   Donald Trump spent a good portion of his day a...    News   \n",
       "7   In the wake of yet another court decision that...    News   \n",
       "8   Many people have raised the alarm regarding th...    News   \n",
       "9   Just when you might have thought we d get a br...    News   \n",
       "10  A centerpiece of Donald Trump s campaign, and ...    News   \n",
       "11  Republicans are working overtime trying to sel...    News   \n",
       "12  Republicans have had seven years to come up wi...    News   \n",
       "13  The media has been talking all day about Trump...    News   \n",
       "14  Abigail Disney is an heiress with brass ovarie...    News   \n",
       "15  Donald Trump just signed the GOP tax scam into...    News   \n",
       "16  A new animatronic figure in the Hall of Presid...    News   \n",
       "17  Trump supporters and the so-called president s...    News   \n",
       "18  Right now, the whole world is looking at the s...    News   \n",
       "19  Senate Majority Whip John Cornyn (R-TX) though...    News   \n",
       "\n",
       "                 date  class  \n",
       "0   December 31, 2017      0  \n",
       "1   December 31, 2017      0  \n",
       "2   December 30, 2017      0  \n",
       "3   December 29, 2017      0  \n",
       "4   December 25, 2017      0  \n",
       "5   December 25, 2017      0  \n",
       "6   December 23, 2017      0  \n",
       "7   December 23, 2017      0  \n",
       "8   December 22, 2017      0  \n",
       "9   December 21, 2017      0  \n",
       "10  December 21, 2017      0  \n",
       "11  December 21, 2017      0  \n",
       "12  December 21, 2017      0  \n",
       "13  December 20, 2017      0  \n",
       "14  December 20, 2017      0  \n",
       "15  December 20, 2017      0  \n",
       "16  December 19, 2017      0  \n",
       "17  December 17, 2017      0  \n",
       "18  December 17, 2017      0  \n",
       "19  December 16, 2017      0  "
      ]
     },
     "execution_count": 4,
     "metadata": {},
     "output_type": "execute_result"
    }
   ],
   "source": [
    "data=pd.read_csv(\"C:\\\\Users\\\\Lenovo\\\\Downloads\\\\News1.csv\")\n",
    "data.head(20)"
   ]
  },
  {
   "cell_type": "code",
   "execution_count": 5,
   "metadata": {},
   "outputs": [
    {
     "data": {
      "text/plain": [
       "(44919, 6)"
      ]
     },
     "execution_count": 5,
     "metadata": {},
     "output_type": "execute_result"
    }
   ],
   "source": [
    "data.shape"
   ]
  },
  {
   "cell_type": "code",
   "execution_count": 6,
   "metadata": {},
   "outputs": [],
   "source": [
    "#Preprocessing\n",
    "data.drop([\"title\",\"subject\",\"date\",\"Unnamed: 0\"],axis=1,inplace=True)"
   ]
  },
  {
   "cell_type": "code",
   "execution_count": 7,
   "metadata": {},
   "outputs": [
    {
     "data": {
      "text/html": [
       "<div>\n",
       "<style scoped>\n",
       "    .dataframe tbody tr th:only-of-type {\n",
       "        vertical-align: middle;\n",
       "    }\n",
       "\n",
       "    .dataframe tbody tr th {\n",
       "        vertical-align: top;\n",
       "    }\n",
       "\n",
       "    .dataframe thead th {\n",
       "        text-align: right;\n",
       "    }\n",
       "</style>\n",
       "<table border=\"1\" class=\"dataframe\">\n",
       "  <thead>\n",
       "    <tr style=\"text-align: right;\">\n",
       "      <th></th>\n",
       "      <th>text</th>\n",
       "      <th>class</th>\n",
       "    </tr>\n",
       "  </thead>\n",
       "  <tbody>\n",
       "    <tr>\n",
       "      <th>0</th>\n",
       "      <td>Donald Trump just couldn t wish all Americans ...</td>\n",
       "      <td>0</td>\n",
       "    </tr>\n",
       "    <tr>\n",
       "      <th>1</th>\n",
       "      <td>House Intelligence Committee Chairman Devin Nu...</td>\n",
       "      <td>0</td>\n",
       "    </tr>\n",
       "    <tr>\n",
       "      <th>2</th>\n",
       "      <td>On Friday, it was revealed that former Milwauk...</td>\n",
       "      <td>0</td>\n",
       "    </tr>\n",
       "    <tr>\n",
       "      <th>3</th>\n",
       "      <td>On Christmas day, Donald Trump announced that ...</td>\n",
       "      <td>0</td>\n",
       "    </tr>\n",
       "    <tr>\n",
       "      <th>4</th>\n",
       "      <td>Pope Francis used his annual Christmas Day mes...</td>\n",
       "      <td>0</td>\n",
       "    </tr>\n",
       "    <tr>\n",
       "      <th>5</th>\n",
       "      <td>The number of cases of cops brutalizing and ki...</td>\n",
       "      <td>0</td>\n",
       "    </tr>\n",
       "    <tr>\n",
       "      <th>6</th>\n",
       "      <td>Donald Trump spent a good portion of his day a...</td>\n",
       "      <td>0</td>\n",
       "    </tr>\n",
       "    <tr>\n",
       "      <th>7</th>\n",
       "      <td>In the wake of yet another court decision that...</td>\n",
       "      <td>0</td>\n",
       "    </tr>\n",
       "    <tr>\n",
       "      <th>8</th>\n",
       "      <td>Many people have raised the alarm regarding th...</td>\n",
       "      <td>0</td>\n",
       "    </tr>\n",
       "    <tr>\n",
       "      <th>9</th>\n",
       "      <td>Just when you might have thought we d get a br...</td>\n",
       "      <td>0</td>\n",
       "    </tr>\n",
       "    <tr>\n",
       "      <th>10</th>\n",
       "      <td>A centerpiece of Donald Trump s campaign, and ...</td>\n",
       "      <td>0</td>\n",
       "    </tr>\n",
       "    <tr>\n",
       "      <th>11</th>\n",
       "      <td>Republicans are working overtime trying to sel...</td>\n",
       "      <td>0</td>\n",
       "    </tr>\n",
       "    <tr>\n",
       "      <th>12</th>\n",
       "      <td>Republicans have had seven years to come up wi...</td>\n",
       "      <td>0</td>\n",
       "    </tr>\n",
       "    <tr>\n",
       "      <th>13</th>\n",
       "      <td>The media has been talking all day about Trump...</td>\n",
       "      <td>0</td>\n",
       "    </tr>\n",
       "    <tr>\n",
       "      <th>14</th>\n",
       "      <td>Abigail Disney is an heiress with brass ovarie...</td>\n",
       "      <td>0</td>\n",
       "    </tr>\n",
       "    <tr>\n",
       "      <th>15</th>\n",
       "      <td>Donald Trump just signed the GOP tax scam into...</td>\n",
       "      <td>0</td>\n",
       "    </tr>\n",
       "    <tr>\n",
       "      <th>16</th>\n",
       "      <td>A new animatronic figure in the Hall of Presid...</td>\n",
       "      <td>0</td>\n",
       "    </tr>\n",
       "    <tr>\n",
       "      <th>17</th>\n",
       "      <td>Trump supporters and the so-called president s...</td>\n",
       "      <td>0</td>\n",
       "    </tr>\n",
       "    <tr>\n",
       "      <th>18</th>\n",
       "      <td>Right now, the whole world is looking at the s...</td>\n",
       "      <td>0</td>\n",
       "    </tr>\n",
       "    <tr>\n",
       "      <th>19</th>\n",
       "      <td>Senate Majority Whip John Cornyn (R-TX) though...</td>\n",
       "      <td>0</td>\n",
       "    </tr>\n",
       "  </tbody>\n",
       "</table>\n",
       "</div>"
      ],
      "text/plain": [
       "                                                 text  class\n",
       "0   Donald Trump just couldn t wish all Americans ...      0\n",
       "1   House Intelligence Committee Chairman Devin Nu...      0\n",
       "2   On Friday, it was revealed that former Milwauk...      0\n",
       "3   On Christmas day, Donald Trump announced that ...      0\n",
       "4   Pope Francis used his annual Christmas Day mes...      0\n",
       "5   The number of cases of cops brutalizing and ki...      0\n",
       "6   Donald Trump spent a good portion of his day a...      0\n",
       "7   In the wake of yet another court decision that...      0\n",
       "8   Many people have raised the alarm regarding th...      0\n",
       "9   Just when you might have thought we d get a br...      0\n",
       "10  A centerpiece of Donald Trump s campaign, and ...      0\n",
       "11  Republicans are working overtime trying to sel...      0\n",
       "12  Republicans have had seven years to come up wi...      0\n",
       "13  The media has been talking all day about Trump...      0\n",
       "14  Abigail Disney is an heiress with brass ovarie...      0\n",
       "15  Donald Trump just signed the GOP tax scam into...      0\n",
       "16  A new animatronic figure in the Hall of Presid...      0\n",
       "17  Trump supporters and the so-called president s...      0\n",
       "18  Right now, the whole world is looking at the s...      0\n",
       "19  Senate Majority Whip John Cornyn (R-TX) though...      0"
      ]
     },
     "execution_count": 7,
     "metadata": {},
     "output_type": "execute_result"
    }
   ],
   "source": [
    "data.head(20)"
   ]
  },
  {
   "cell_type": "code",
   "execution_count": 8,
   "metadata": {},
   "outputs": [
    {
     "data": {
      "text/plain": [
       "text     0\n",
       "class    0\n",
       "dtype: int64"
      ]
     },
     "execution_count": 8,
     "metadata": {},
     "output_type": "execute_result"
    }
   ],
   "source": [
    "data.isnull().sum()"
   ]
  },
  {
   "cell_type": "code",
   "execution_count": 9,
   "metadata": {},
   "outputs": [],
   "source": [
    "data=data.sample(frac=1) \n",
    "data.reset_index(inplace=True)\n",
    "data.drop([\"index\"], axis=1, inplace=True)"
   ]
  },
  {
   "cell_type": "code",
   "execution_count": 10,
   "metadata": {},
   "outputs": [
    {
     "data": {
      "text/html": [
       "<div>\n",
       "<style scoped>\n",
       "    .dataframe tbody tr th:only-of-type {\n",
       "        vertical-align: middle;\n",
       "    }\n",
       "\n",
       "    .dataframe tbody tr th {\n",
       "        vertical-align: top;\n",
       "    }\n",
       "\n",
       "    .dataframe thead th {\n",
       "        text-align: right;\n",
       "    }\n",
       "</style>\n",
       "<table border=\"1\" class=\"dataframe\">\n",
       "  <thead>\n",
       "    <tr style=\"text-align: right;\">\n",
       "      <th></th>\n",
       "      <th>text</th>\n",
       "      <th>class</th>\n",
       "    </tr>\n",
       "  </thead>\n",
       "  <tbody>\n",
       "    <tr>\n",
       "      <th>0</th>\n",
       "      <td>WARSAW (Reuters) - The European Commission s d...</td>\n",
       "      <td>1</td>\n",
       "    </tr>\n",
       "    <tr>\n",
       "      <th>1</th>\n",
       "      <td>Donald Trump kicked off another round of Repub...</td>\n",
       "      <td>0</td>\n",
       "    </tr>\n",
       "    <tr>\n",
       "      <th>2</th>\n",
       "      <td>Former President Barack Obama seems to be feel...</td>\n",
       "      <td>0</td>\n",
       "    </tr>\n",
       "    <tr>\n",
       "      <th>3</th>\n",
       "      <td>ANKARA (Reuters) - Iran s supreme leader, Ayat...</td>\n",
       "      <td>1</td>\n",
       "    </tr>\n",
       "    <tr>\n",
       "      <th>4</th>\n",
       "      <td>WASHINGTON (Reuters) - The U.S. Supreme Court ...</td>\n",
       "      <td>1</td>\n",
       "    </tr>\n",
       "  </tbody>\n",
       "</table>\n",
       "</div>"
      ],
      "text/plain": [
       "                                                text  class\n",
       "0  WARSAW (Reuters) - The European Commission s d...      1\n",
       "1  Donald Trump kicked off another round of Repub...      0\n",
       "2  Former President Barack Obama seems to be feel...      0\n",
       "3  ANKARA (Reuters) - Iran s supreme leader, Ayat...      1\n",
       "4  WASHINGTON (Reuters) - The U.S. Supreme Court ...      1"
      ]
     },
     "execution_count": 10,
     "metadata": {},
     "output_type": "execute_result"
    }
   ],
   "source": [
    "data.head()"
   ]
  },
  {
   "cell_type": "code",
   "execution_count": 11,
   "metadata": {},
   "outputs": [
    {
     "data": {
      "text/plain": [
       "<Axes: xlabel='class', ylabel='count'>"
      ]
     },
     "execution_count": 11,
     "metadata": {},
     "output_type": "execute_result"
    },
    {
     "data": {
      "image/png": "[encoded data removed]",
      "text/plain": [
       "<Figure size 640x480 with 1 Axes>"
      ]
     },
     "metadata": {},
     "output_type": "display_data"
    }
   ],
   "source": [
    "sns.countplot(data=data,\n",
    "              x='class')"
   ]
  },
  {
   "cell_type": "code",
   "execution_count": 12,
   "metadata": {
    "scrolled": true
   },
   "outputs": [],
   "source": [
    "from tqdm import tqdm\n",
    "import re\n",
    "import nltk\n",
    "from nltk.corpus import stopwords\n",
    "from nltk.tokenize import word_tokenize\n",
    "from nltk.stem.porter import PorterStemmer\n"
   ]
  },
  {
   "cell_type": "code",
   "execution_count": 13,
   "metadata": {},
   "outputs": [],
   "source": [
    "\n",
    "def text_preprocessing(text_data):\n",
    "    final_text= []\n",
    "      \n",
    "    for sentence in tqdm(text_data):\n",
    "        sentence = re.sub(r'[^\\w\\s]', '', sentence)\n",
    "        final_text.append(' '.join(token.lower()\n",
    "                                  for token in str(sentence).split()\n",
    "                                  if token not in stopwords.words('english')))\n",
    "  \n",
    "    return final_text\n"
   ]
  },
  {
   "cell_type": "code",
   "execution_count": 14,
   "metadata": {},
   "outputs": [
    {
     "name": "stderr",
     "output_type": "stream",
     "text": [
      "100%|██████████████████████████████████████████████████████████████████████████| 44919/44919 [1:09:05<00:00, 10.83it/s]\n"
     ]
    }
   ],
   "source": [
    "preprocessed_review = text_preprocessing(data['text'].values)\n",
    "data['text'] = preprocessed_review"
   ]
  },
  {
   "cell_type": "code",
   "execution_count": 15,
   "metadata": {},
   "outputs": [
    {
     "data": {
      "text/html": [
       "<div>\n",
       "<style scoped>\n",
       "    .dataframe tbody tr th:only-of-type {\n",
       "        vertical-align: middle;\n",
       "    }\n",
       "\n",
       "    .dataframe tbody tr th {\n",
       "        vertical-align: top;\n",
       "    }\n",
       "\n",
       "    .dataframe thead th {\n",
       "        text-align: right;\n",
       "    }\n",
       "</style>\n",
       "<table border=\"1\" class=\"dataframe\">\n",
       "  <thead>\n",
       "    <tr style=\"text-align: right;\">\n",
       "      <th></th>\n",
       "      <th>text</th>\n",
       "      <th>class</th>\n",
       "    </tr>\n",
       "  </thead>\n",
       "  <tbody>\n",
       "    <tr>\n",
       "      <th>0</th>\n",
       "      <td>warsaw reuters the european commission decisio...</td>\n",
       "      <td>1</td>\n",
       "    </tr>\n",
       "    <tr>\n",
       "      <th>1</th>\n",
       "      <td>donald trump kicked another round republican m...</td>\n",
       "      <td>0</td>\n",
       "    </tr>\n",
       "    <tr>\n",
       "      <th>2</th>\n",
       "      <td>former president barack obama seems feeling no...</td>\n",
       "      <td>0</td>\n",
       "    </tr>\n",
       "    <tr>\n",
       "      <th>3</th>\n",
       "      <td>ankara reuters iran supreme leader ayatollah a...</td>\n",
       "      <td>1</td>\n",
       "    </tr>\n",
       "    <tr>\n",
       "      <th>4</th>\n",
       "      <td>washington reuters the us supreme court monday...</td>\n",
       "      <td>1</td>\n",
       "    </tr>\n",
       "    <tr>\n",
       "      <th>5</th>\n",
       "      <td>manhattan seeing significant problems due trum...</td>\n",
       "      <td>0</td>\n",
       "    </tr>\n",
       "    <tr>\n",
       "      <th>6</th>\n",
       "      <td>a huge rally 10000 chicagoans get hear candida...</td>\n",
       "      <td>0</td>\n",
       "    </tr>\n",
       "    <tr>\n",
       "      <th>7</th>\n",
       "      <td>and guy behind hate dumping 10 million pushing...</td>\n",
       "      <td>0</td>\n",
       "    </tr>\n",
       "    <tr>\n",
       "      <th>8</th>\n",
       "      <td>macomb county mi executive mark hackel release...</td>\n",
       "      <td>0</td>\n",
       "    </tr>\n",
       "    <tr>\n",
       "      <th>9</th>\n",
       "      <td>so immigration crisis never hear evening news ...</td>\n",
       "      <td>0</td>\n",
       "    </tr>\n",
       "    <tr>\n",
       "      <th>10</th>\n",
       "      <td>if want try dispute dinesh d souza arguments p...</td>\n",
       "      <td>0</td>\n",
       "    </tr>\n",
       "    <tr>\n",
       "      <th>11</th>\n",
       "      <td>yangon reuters myanmar civilian president htin...</td>\n",
       "      <td>1</td>\n",
       "    </tr>\n",
       "    <tr>\n",
       "      <th>12</th>\n",
       "      <td>amsterdam reuters dutch politician geert wilde...</td>\n",
       "      <td>1</td>\n",
       "    </tr>\n",
       "    <tr>\n",
       "      <th>13</th>\n",
       "      <td>washington reuters us republican presidential ...</td>\n",
       "      <td>1</td>\n",
       "    </tr>\n",
       "    <tr>\n",
       "      <th>14</th>\n",
       "      <td>in 2008 barack obama promised shut coal indust...</td>\n",
       "      <td>0</td>\n",
       "    </tr>\n",
       "    <tr>\n",
       "      <th>15</th>\n",
       "      <td>copenhagen reuters denmark prince henrik husba...</td>\n",
       "      <td>1</td>\n",
       "    </tr>\n",
       "    <tr>\n",
       "      <th>16</th>\n",
       "      <td>with donald trump writing executive orders ban...</td>\n",
       "      <td>0</td>\n",
       "    </tr>\n",
       "    <tr>\n",
       "      <th>17</th>\n",
       "      <td>when black lives matter supporters use tactics...</td>\n",
       "      <td>0</td>\n",
       "    </tr>\n",
       "    <tr>\n",
       "      <th>18</th>\n",
       "      <td>donald trump hollywood star walk fame utterly ...</td>\n",
       "      <td>0</td>\n",
       "    </tr>\n",
       "    <tr>\n",
       "      <th>19</th>\n",
       "      <td>dubai reuters saudi arabia powerful crown prin...</td>\n",
       "      <td>1</td>\n",
       "    </tr>\n",
       "  </tbody>\n",
       "</table>\n",
       "</div>"
      ],
      "text/plain": [
       "                                                 text  class\n",
       "0   warsaw reuters the european commission decisio...      1\n",
       "1   donald trump kicked another round republican m...      0\n",
       "2   former president barack obama seems feeling no...      0\n",
       "3   ankara reuters iran supreme leader ayatollah a...      1\n",
       "4   washington reuters the us supreme court monday...      1\n",
       "5   manhattan seeing significant problems due trum...      0\n",
       "6   a huge rally 10000 chicagoans get hear candida...      0\n",
       "7   and guy behind hate dumping 10 million pushing...      0\n",
       "8   macomb county mi executive mark hackel release...      0\n",
       "9   so immigration crisis never hear evening news ...      0\n",
       "10  if want try dispute dinesh d souza arguments p...      0\n",
       "11  yangon reuters myanmar civilian president htin...      1\n",
       "12  amsterdam reuters dutch politician geert wilde...      1\n",
       "13  washington reuters us republican presidential ...      1\n",
       "14  in 2008 barack obama promised shut coal indust...      0\n",
       "15  copenhagen reuters denmark prince henrik husba...      1\n",
       "16  with donald trump writing executive orders ban...      0\n",
       "17  when black lives matter supporters use tactics...      0\n",
       "18  donald trump hollywood star walk fame utterly ...      0\n",
       "19  dubai reuters saudi arabia powerful crown prin...      1"
      ]
     },
     "execution_count": 15,
     "metadata": {},
     "output_type": "execute_result"
    }
   ],
   "source": [
    "data.head(20)"
   ]
  },
  {
   "cell_type": "code",
   "execution_count": 16,
   "metadata": {},
   "outputs": [
    {
     "name": "stdout",
     "output_type": "stream",
     "text": [
      "[('said', 130004), ('trump', 116009), ('the', 101315), ('us', 63063), ('would', 54935), ('president', 51035), ('people', 41023), ('one', 35480), ('state', 31185), ('also', 31121), ('new', 30860), ('reuters', 28765), ('donald', 27545), ('states', 27037), ('house', 26941), ('government', 26497), ('clinton', 25811), ('it', 25767), ('obama', 24812), ('he', 24599)]\n"
     ]
    },
    {
     "data": {
      "text/html": [
       "<div>\n",
       "<style scoped>\n",
       "    .dataframe tbody tr th:only-of-type {\n",
       "        vertical-align: middle;\n",
       "    }\n",
       "\n",
       "    .dataframe tbody tr th {\n",
       "        vertical-align: top;\n",
       "    }\n",
       "\n",
       "    .dataframe thead th {\n",
       "        text-align: right;\n",
       "    }\n",
       "</style>\n",
       "<table border=\"1\" class=\"dataframe\">\n",
       "  <thead>\n",
       "    <tr style=\"text-align: right;\">\n",
       "      <th></th>\n",
       "      <th>Review</th>\n",
       "      <th>count</th>\n",
       "    </tr>\n",
       "  </thead>\n",
       "  <tbody>\n",
       "    <tr>\n",
       "      <th>0</th>\n",
       "      <td>said</td>\n",
       "      <td>130004</td>\n",
       "    </tr>\n",
       "    <tr>\n",
       "      <th>1</th>\n",
       "      <td>trump</td>\n",
       "      <td>116009</td>\n",
       "    </tr>\n",
       "    <tr>\n",
       "      <th>2</th>\n",
       "      <td>the</td>\n",
       "      <td>101315</td>\n",
       "    </tr>\n",
       "    <tr>\n",
       "      <th>3</th>\n",
       "      <td>us</td>\n",
       "      <td>63063</td>\n",
       "    </tr>\n",
       "    <tr>\n",
       "      <th>4</th>\n",
       "      <td>would</td>\n",
       "      <td>54935</td>\n",
       "    </tr>\n",
       "    <tr>\n",
       "      <th>5</th>\n",
       "      <td>president</td>\n",
       "      <td>51035</td>\n",
       "    </tr>\n",
       "    <tr>\n",
       "      <th>6</th>\n",
       "      <td>people</td>\n",
       "      <td>41023</td>\n",
       "    </tr>\n",
       "    <tr>\n",
       "      <th>7</th>\n",
       "      <td>one</td>\n",
       "      <td>35480</td>\n",
       "    </tr>\n",
       "    <tr>\n",
       "      <th>8</th>\n",
       "      <td>state</td>\n",
       "      <td>31185</td>\n",
       "    </tr>\n",
       "    <tr>\n",
       "      <th>9</th>\n",
       "      <td>also</td>\n",
       "      <td>31121</td>\n",
       "    </tr>\n",
       "    <tr>\n",
       "      <th>10</th>\n",
       "      <td>new</td>\n",
       "      <td>30860</td>\n",
       "    </tr>\n",
       "    <tr>\n",
       "      <th>11</th>\n",
       "      <td>reuters</td>\n",
       "      <td>28765</td>\n",
       "    </tr>\n",
       "    <tr>\n",
       "      <th>12</th>\n",
       "      <td>donald</td>\n",
       "      <td>27545</td>\n",
       "    </tr>\n",
       "    <tr>\n",
       "      <th>13</th>\n",
       "      <td>states</td>\n",
       "      <td>27037</td>\n",
       "    </tr>\n",
       "    <tr>\n",
       "      <th>14</th>\n",
       "      <td>house</td>\n",
       "      <td>26941</td>\n",
       "    </tr>\n",
       "    <tr>\n",
       "      <th>15</th>\n",
       "      <td>government</td>\n",
       "      <td>26497</td>\n",
       "    </tr>\n",
       "    <tr>\n",
       "      <th>16</th>\n",
       "      <td>clinton</td>\n",
       "      <td>25811</td>\n",
       "    </tr>\n",
       "    <tr>\n",
       "      <th>17</th>\n",
       "      <td>it</td>\n",
       "      <td>25767</td>\n",
       "    </tr>\n",
       "    <tr>\n",
       "      <th>18</th>\n",
       "      <td>obama</td>\n",
       "      <td>24812</td>\n",
       "    </tr>\n",
       "    <tr>\n",
       "      <th>19</th>\n",
       "      <td>he</td>\n",
       "      <td>24599</td>\n",
       "    </tr>\n",
       "  </tbody>\n",
       "</table>\n",
       "</div>"
      ],
      "text/plain": [
       "        Review   count\n",
       "0         said  130004\n",
       "1        trump  116009\n",
       "2          the  101315\n",
       "3           us   63063\n",
       "4        would   54935\n",
       "5    president   51035\n",
       "6       people   41023\n",
       "7          one   35480\n",
       "8        state   31185\n",
       "9         also   31121\n",
       "10         new   30860\n",
       "11     reuters   28765\n",
       "12      donald   27545\n",
       "13      states   27037\n",
       "14       house   26941\n",
       "15  government   26497\n",
       "16     clinton   25811\n",
       "17          it   25767\n",
       "18       obama   24812\n",
       "19          he   24599"
      ]
     },
     "execution_count": 16,
     "metadata": {},
     "output_type": "execute_result"
    }
   ],
   "source": [
    "from sklearn.feature_extraction.text import CountVectorizer\n",
    "  \n",
    "def get_top_n_words(corpus, n=None):\n",
    "    vec = CountVectorizer().fit(corpus)\n",
    "    bag_of_words = vec.transform(corpus)\n",
    "    #print(bag_of_words)\n",
    "    sum_words = bag_of_words.sum(axis=0) #column here is 0\n",
    "    words_freq = [(word, sum_words[0, idx])\n",
    "                  for word, idx in vec.vocabulary_.items()]\n",
    "    words_freq = sorted(words_freq, key=lambda x: x[1],\n",
    "                        reverse=True)\n",
    "    return words_freq[:n]\n",
    "\n",
    "common_words = get_top_n_words(data['text'], 20)\n",
    "print(common_words)\n",
    "df1 = pd.DataFrame(common_words, columns=['Review', 'count'])\n",
    "df1"
   ]
  },
  {
   "cell_type": "code",
   "execution_count": 17,
   "metadata": {},
   "outputs": [
    {
     "data": {
      "image/png": "[encoded data removed]",
      "text/plain": [
       "<Figure size 2500x800 with 1 Axes>"
      ]
     },
     "metadata": {},
     "output_type": "display_data"
    }
   ],
   "source": [
    "fig = plt.figure(figsize =(25, 8))\n",
    "plt.bar(df1['Review'],df1['count'])\n",
    " \n",
    "# Show Plot\n",
    "plt.show()"
   ]
  },
  {
   "cell_type": "code",
   "execution_count": 18,
   "metadata": {},
   "outputs": [],
   "source": [
    "from sklearn.model_selection import train_test_split\n",
    "from sklearn.metrics import accuracy_score\n",
    "from sklearn.linear_model import LogisticRegression\n",
    "  \n",
    "x_train, x_test, y_train, y_test = train_test_split(data['text'], \n",
    "                                                    data['class'], \n",
    "                                                    test_size=0.25)"
   ]
  },
  {
   "cell_type": "code",
   "execution_count": 19,
   "metadata": {},
   "outputs": [],
   "source": [
    "from sklearn.feature_extraction.text import TfidfVectorizer\n",
    "  \n",
    "vectorization = TfidfVectorizer()\n",
    "x_train = vectorization.fit_transform(x_train)\n",
    "x_test = vectorization.transform(x_test)"
   ]
  },
  {
   "cell_type": "code",
   "execution_count": 20,
   "metadata": {},
   "outputs": [
    {
     "name": "stdout",
     "output_type": "stream",
     "text": [
      "0.9934399952506753\n",
      "0.988780053428317\n"
     ]
    }
   ],
   "source": [
    "from sklearn.linear_model import LogisticRegression\n",
    "  \n",
    "model = LogisticRegression()\n",
    "model.fit(x_train, y_train)\n",
    "  \n",
    "# testing the model\n",
    "print(accuracy_score(y_train, model.predict(x_train)))\n",
    "print(accuracy_score(y_test, model.predict(x_test)))"
   ]
  },
  {
   "cell_type": "code",
   "execution_count": 21,
   "metadata": {},
   "outputs": [
    {
     "data": {
      "image/png": "[encoded data removed]",
      "text/plain": [
       "<Figure size 640x480 with 2 Axes>"
      ]
     },
     "metadata": {},
     "output_type": "display_data"
    }
   ],
   "source": [
    "from sklearn import metrics\n",
    "cm = metrics.confusion_matrix(y_test, model.predict(x_test))\n",
    "  \n",
    "cm_display = metrics.ConfusionMatrixDisplay(confusion_matrix=cm,\n",
    "                                            display_labels=[False, True])\n",
    "  \n",
    "cm_display.plot()\n",
    "plt.show()"
   ]
  },
  {
   "cell_type": "code",
   "execution_count": 22,
   "metadata": {},
   "outputs": [
    {
     "name": "stdout",
     "output_type": "stream",
     "text": [
      "SVM Accuracy Score ->  99.59038290293856\n"
     ]
    }
   ],
   "source": [
    "from sklearn import svm\n",
    "SVM = svm.SVC(C=1.0, kernel='linear')\n",
    "SVM.fit(x_train,y_train)# predict the labels on validation dataset\n",
    "predictions_SVM = SVM.predict(x_test)# Use accuracy_score function to get the accuracy\n",
    "print(\"SVM Accuracy Score -> \",accuracy_score(predictions_SVM, y_test)*100)"
   ]
  },
  {
   "cell_type": "code",
   "execution_count": 23,
   "metadata": {},
   "outputs": [
    {
     "data": {
      "image/png": "[encoded data removed]",
      "text/plain": [
       "<Figure size 640x480 with 2 Axes>"
      ]
     },
     "metadata": {},
     "output_type": "display_data"
    }
   ],
   "source": [
    "from sklearn import metrics\n",
    "cm = metrics.confusion_matrix(y_test, predictions_SVM)\n",
    "  \n",
    "cm_display = metrics.ConfusionMatrixDisplay(confusion_matrix=cm,\n",
    "                                            display_labels=[False, True])\n",
    "  \n",
    "cm_display.plot()\n",
    "plt.show()"
   ]
  },
  {
   "cell_type": "code",
   "execution_count": 24,
   "metadata": {},
   "outputs": [
    {
     "name": "stdout",
     "output_type": "stream",
     "text": [
      "0.9567811451809196\n",
      "0.9480854853072128\n"
     ]
    }
   ],
   "source": [
    "from sklearn.naive_bayes import MultinomialNB\n",
    "\n",
    "NB = MultinomialNB()\n",
    "NB.fit(x_train, y_train)\n",
    "# testing the model\n",
    "print(accuracy_score(y_train, NB.predict(x_train)))\n",
    "print(accuracy_score(y_test, NB.predict(x_test)))"
   ]
  },
  {
   "cell_type": "code",
   "execution_count": 25,
   "metadata": {},
   "outputs": [
    {
     "data": {
      "image/png": "[encoded data removed]",
      "text/plain": [
       "<Figure size 640x480 with 2 Axes>"
      ]
     },
     "metadata": {},
     "output_type": "display_data"
    }
   ],
   "source": [
    "from sklearn import metrics\n",
    "cm = metrics.confusion_matrix(y_test, NB.predict(x_test))\n",
    "cm_display = metrics.ConfusionMatrixDisplay(confusion_matrix=cm,\n",
    "                                            display_labels=[False, True])\n",
    "cm_display.plot()\n",
    "plt.show()"
   ]
  },
  {
   "cell_type": "code",
   "execution_count": 26,
   "metadata": {},
   "outputs": [
    {
     "name": "stdout",
     "output_type": "stream",
     "text": [
      "0.9999703167205913\n",
      "0.9878895814781834\n"
     ]
    }
   ],
   "source": [
    "from sklearn.ensemble import RandomForestClassifier\n",
    "RFC = RandomForestClassifier(random_state=0)\n",
    "RFC.fit(x_train, y_train)\n",
    "print(accuracy_score(y_train, RFC.predict(x_train)))\n",
    "print(accuracy_score(y_test, RFC.predict(x_test)))"
   ]
  },
  {
   "cell_type": "code",
   "execution_count": 29,
   "metadata": {},
   "outputs": [
    {
     "name": "stdout",
     "output_type": "stream",
     "text": [
      "              precision    recall  f1-score   support\n",
      "\n",
      "           0       0.99      0.99      0.99      5954\n",
      "           1       0.98      0.99      0.99      5276\n",
      "\n",
      "    accuracy                           0.99     11230\n",
      "   macro avg       0.99      0.99      0.99     11230\n",
      "weighted avg       0.99      0.99      0.99     11230\n",
      "\n"
     ]
    }
   ],
   "source": [
    "print(classification_report(y_test, RFC.predict(x_test)))"
   ]
  },
  {
   "cell_type": "code",
   "execution_count": 45,
   "metadata": {},
   "outputs": [
    {
     "name": "stderr",
     "output_type": "stream",
     "text": [
      "100%|███████████████████████████████████████████████████████████████████████████████████| 1/1 [00:00<00:00, 501.65it/s]"
     ]
    },
    {
     "name": "stdout",
     "output_type": "stream",
     "text": [
      "Logistic Regression Prediction: fake news\n",
      "SVM Prediction: fake news\n",
      "Naive Bayes Prediction: not fake news\n",
      "Random Forest Classifier Prediction: fake news\n"
     ]
    },
    {
     "name": "stderr",
     "output_type": "stream",
     "text": [
      "\n"
     ]
    }
   ],
   "source": [
    "# Sample text for classification\n",
    "sample_text = \"Imran khan PTI retains seat share.\"\n",
    "\n",
    "# Preprocess the sample text\n",
    "preprocessed_sample = text_preprocessing([sample_text])\n",
    "preprocessed_sample = vectorization.transform(preprocessed_sample)\n",
    "\n",
    "# Predict using Logistic Regression\n",
    "logreg_prediction = model.predict(preprocessed_sample)\n",
    "\n",
    "# Predict using SVM\n",
    "svm_prediction = SVM.predict(preprocessed_sample)\n",
    "\n",
    "# Predict using Naive Bayes\n",
    "nb_prediction = NB.predict(preprocessed_sample)\n",
    "\n",
    "# Predict using Random Forest Classifier\n",
    "rfc_prediction = RFC.predict(preprocessed_sample)\n",
    "\n",
    "# Define a function to map binary predictions to labels\n",
    "def label_prediction(prediction):\n",
    "    return \"fake news\" if prediction == 0 else \"not fake news\"\n",
    "\n",
    "# Predict using Logistic Regression\n",
    "logreg_label = label_prediction(logreg_prediction[0])\n",
    "\n",
    "# Predict using SVM\n",
    "svm_label = label_prediction(svm_prediction[0])\n",
    "\n",
    "# Predict using Naive Bayes\n",
    "nb_label = label_prediction(nb_prediction[0])\n",
    "\n",
    "# Predict using Random Forest Classifier\n",
    "rfc_label = label_prediction(rfc_prediction[0])\n",
    "\n",
    "# Display the labeled predictions\n",
    "print(\"Logistic Regression Prediction:\", logreg_label)\n",
    "print(\"SVM Prediction:\", svm_label)\n",
    "print(\"Naive Bayes Prediction:\", nb_label)\n",
    "print(\"Random Forest Classifier Prediction:\", rfc_label)"
   ]
  },
  {
   "cell_type": "code",
   "execution_count": null,
   "metadata": {},
   "outputs": [],
   "source": []
  }
 ],
 "metadata": {
  "kernelspec": {
   "display_name": "Python 3 (ipykernel)",
   "language": "python",
   "name": "python3"
  },
  "language_info": {
   "codemirror_mode": {
    "name": "ipython",
    "version": 3
   },
   "file_extension": ".py",
   "mimetype": "text/x-python",
   "name": "python",
   "nbconvert_exporter": "python",
   "pygments_lexer": "ipython3",
   "version": "3.10.9"
  }
 },
 "nbformat": 4,
 "nbformat_minor": 4
}
